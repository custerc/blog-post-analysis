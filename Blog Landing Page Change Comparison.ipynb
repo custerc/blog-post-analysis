{
 "cells": [
  {
   "cell_type": "markdown",
   "metadata": {},
   "source": [
    "Arrange the dates you want and download [from here](https://analytics.google.com/analytics/web/#/savedreport/OqXu9BGgSZuBRBD01bg3yw/a41411988w90270749p93874080/_u.date00=20200904&_u.date01=20200910&_u.date10=20200501&_u.date11=20200507&_.advseg=&_.useg=&_.sectionId=&_.goalOption=2&_r.dsa=1&explorer-table.advFilter=%5B%5B0,%22analytics.landingPagePath%22,%22PT%22,%22~2Fblog~2F%22,0%5D,%5B1,%22analytics.visits%22,%22GT%22,%22200%22,0%5D,%5B0,%22analytics.sourceMedium%22,%22PT%22,%22google%20~2F%20organic%22,0%5D%5D&explorer-table.plotKeys=%5B%5D&explorer-table.secSegmentId=analytics.sourceMedium&explorer-table.rowStart=0&explorer-table.rowCount=100). \n",
    "\n",
    "If that link doesn't work, Behavior > Site content > Landing pages and then set up your time comparison, and filter by whatever source/medium you'd like and other filters you'd like. \n",
    "\n",
    "When you're done, export the report as a CSV, rename the CSV file `ga-export.csv`, and then place it in the same directory as the Jupyter Notebook you'll be using to run this code. Then, run the code below.\n",
    "\n",
    "Alternately, you can just run all cells to generate a CSV that includes all three rate calculations as separate columns."
   ]
  },
  {
   "cell_type": "code",
   "execution_count": 1,
   "metadata": {},
   "outputs": [],
   "source": [
    "import pandas as pd\n",
    "\n",
    "#read the CSV, skipping the first six rows to avoid the Google-added header\n",
    "df = pd.read_csv('ga-export.csv', skiprows=6)\n",
    "# drop rows with missing data, this eliminates dumb rows GA adds to the CSV\n",
    "df = df.dropna()\n",
    "\n",
    "# Defining the columns we want to keep\n",
    "df = df[['Landing Page', 'Date Range', 'Sessions', 'New Users', 'Bounce Rate', 'Pages / Session', 'Avg. Session Duration','01: New Account Signups (Goal 2 Conversion Rate)', '01: New Account Signups (Goal 2 Completions)']]\n",
    "\n",
    "#convert the dataframe to a list\n",
    "dflist = df.values.tolist()\n",
    "\n",
    "# count the rows and add even and odd rows to two separate lists\n",
    "rowcounter = 0\n",
    "evenlist = []\n",
    "oddlist = []\n",
    "for row in dflist:\n",
    "    rowcounter += 1\n",
    "    if rowcounter % 2 == 0:\n",
    "        evenlist.append(row)\n",
    "    else:\n",
    "        oddlist.append(row)\n",
    "\n",
    "# Turn the even and odd lists back into two separate dataframes and add column names for clarity\n",
    "# Even numbers are the OLD (orange) data from GA, even is the CURRENT (blue) data\n",
    "df_even = pd.DataFrame(evenlist,columns=['Page', 'Dates', 'Sessions', 'NewUsers', 'BounceRate', 'PagesPerSession', 'AvgSessionDuration', 'SignupRate', 'Signups'])\n",
    "df_odd = pd.DataFrame(oddlist,columns=['Page', 'Dates_now', 'Sessions_now', 'NewUsers_now', 'BounceRate_now', 'PagesPerSession_now', 'AvgSessionDuration_now', 'SignupRate_now', 'Signups_now'])\n",
    "\n",
    "# merge the even and odd dataframes into a new dataframe on the 'page column'\n",
    "joined = pd.merge(df_odd, df_even, on='Page', how='outer')\n",
    "\n",
    "# eliminate commas and percentage signs in the numbers for easier conversion to numberic datatypes\n",
    "joined.replace(',','', regex=True, inplace=True)\n",
    "joined.replace('%','', regex=True, inplace=True)"
   ]
  },
  {
   "cell_type": "markdown",
   "metadata": {},
   "source": [
    "## % Change in Session Numbers\n",
    "\n",
    "When the above cell has run, you can now run the below cell. As written, it will give you a list of the posts by percent change in sessions from biggest drop to biggest gain, and create a CSV file called `blog-analysis.csv` in the same directory as your notebook. It will also print the first three rows.\n",
    "\n",
    "If you wish to reverse this sort order, change `ascending=True` to `ascending=False`.\n",
    "\n",
    "If you wish to analyze a different factor, you can change the column names, or look below for other prewritten code cells.\n",
    "\n",
    "If you wish to print more rows, change the number in `output.head(3)` to the number of rows you'd like print."
   ]
  },
  {
   "cell_type": "code",
   "execution_count": 2,
   "metadata": {},
   "outputs": [],
   "source": [
    "# calculate the percent change \n",
    "joined['SessionDelta'] = (joined['Sessions_now'].astype('float') - joined['Sessions'].astype('float')) / joined['Sessions'].astype('float') * 100\n",
    "# sort by the percent change column and save in a new dataframe called output\n",
    "output = joined.sort_values(by=['SessionDelta'], ascending=True)\n",
    "\n",
    "# export the dataframe as a CSV, not including the index numbers\n",
    "output.to_csv('blog-analysis.csv', index=False)\n",
    "\n",
    "# uncomment the line below to see printed output\n",
    "#output.head(3)"
   ]
  },
  {
   "cell_type": "markdown",
   "metadata": {},
   "source": [
    "## % Change in Signups\n",
    "\n",
    "Run the below code to generate a column for % change in signups over time. "
   ]
  },
  {
   "cell_type": "code",
   "execution_count": 3,
   "metadata": {},
   "outputs": [],
   "source": [
    "joined['SignupDelta'] = (joined['Signups_now'].astype('float') - joined['Signups'].astype('float')) / joined['Signups'].astype('float') * 100\n",
    "output = joined.sort_values(by=['SignupDelta'], ascending=True)\n",
    "\n",
    "output.to_csv('blog-analysis.csv', index=False)\n",
    "\n",
    "# uncomment the line below to see printed output\n",
    "#output.head(3)"
   ]
  },
  {
   "cell_type": "markdown",
   "metadata": {},
   "source": [
    "## % Change in Signup Rate\n",
    "\n",
    "Run the below code to generate a column for % change in signup rate over time."
   ]
  },
  {
   "cell_type": "code",
   "execution_count": 4,
   "metadata": {},
   "outputs": [],
   "source": [
    "joined['SignupRateDelta'] = (joined['SignupRate_now'].astype('float') - joined['SignupRate'].astype('float')) / joined['SignupRate'].astype('float') * 100\n",
    "output = joined.sort_values(by=['SignupRateDelta'], ascending=True)\n",
    "\n",
    "output.to_csv('blog-analysis.csv', index=False)\n",
    "\n",
    "# uncomment the line below to see printed output\n",
    "#output.head(3)"
   ]
  }
 ],
 "metadata": {
  "kernelspec": {
   "display_name": "Python 3",
   "language": "python",
   "name": "python3"
  },
  "language_info": {
   "codemirror_mode": {
    "name": "ipython",
    "version": 3
   },
   "file_extension": ".py",
   "mimetype": "text/x-python",
   "name": "python",
   "nbconvert_exporter": "python",
   "pygments_lexer": "ipython3",
   "version": "3.7.0"
  }
 },
 "nbformat": 4,
 "nbformat_minor": 2
}
